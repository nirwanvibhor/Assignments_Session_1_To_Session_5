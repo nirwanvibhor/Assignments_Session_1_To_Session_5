{
 "cells": [
  {
   "cell_type": "code",
   "execution_count": 3,
   "metadata": {},
   "outputs": [
    {
     "name": "stdout",
     "output_type": "stream",
     "text": [
      "The list of words greater than the integer is \n",
      "\n"
     ]
    },
    {
     "data": {
      "text/plain": [
       "['India', 'Seventh', 'largest', 'country', 'world']"
      ]
     },
     "execution_count": 3,
     "metadata": {},
     "output_type": "execute_result"
    }
   ],
   "source": [
    "def filter_long_words(str,num):\n",
    "    '''\n",
    "    Input:Enter a string and a number \n",
    "    Output:List of words longer than the entered number\n",
    "    '''\n",
    "    words=[]\n",
    "    for i in str.split():\n",
    "        if len(i)>num:\n",
    "            words.append(i)\n",
    "    return words\n",
    "print(\"The list of words greater than the integer is \\n\")\n",
    "filter_long_words('India is the Seventh largest country in the world',4)\n"
   ]
  },
  {
   "cell_type": "code",
   "execution_count": null,
   "metadata": {},
   "outputs": [],
   "source": []
  }
 ],
 "metadata": {
  "kernelspec": {
   "display_name": "Python 3",
   "language": "python",
   "name": "python3"
  },
  "language_info": {
   "codemirror_mode": {
    "name": "ipython",
    "version": 3
   },
   "file_extension": ".py",
   "mimetype": "text/x-python",
   "name": "python",
   "nbconvert_exporter": "python",
   "pygments_lexer": "ipython3",
   "version": "3.7.1"
  }
 },
 "nbformat": 4,
 "nbformat_minor": 2
}
